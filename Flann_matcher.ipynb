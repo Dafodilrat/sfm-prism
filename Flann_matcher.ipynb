{
 "cells": [
  {
   "cell_type": "code",
   "execution_count": 42,
   "metadata": {},
   "outputs": [],
   "source": [
    "import cv2 \n",
    "images_path=r'images/'\n",
    "import os\n",
    "import numpy as np\n",
    "import glob"
   ]
  },
  {
   "cell_type": "code",
   "execution_count": 43,
   "metadata": {},
   "outputs": [],
   "source": [
    "orb = cv2.ORB_create(3000)\n",
    "FLANN_INDEX_LSH = 6\n",
    "index_params = dict(algorithm=FLANN_INDEX_LSH, table_number=6, key_size=12, multi_probe_level=1)\n",
    "search_params = dict(checks=50)\n",
    "flann = cv2.FlannBasedMatcher(indexParams=index_params, searchParams=search_params)"
   ]
  },
  {
   "cell_type": "code",
   "execution_count": 44,
   "metadata": {},
   "outputs": [],
   "source": [
    "def get_matches(prev_img,current_img):\n",
    "        \"\"\"\n",
    "        This function detect and compute keypoints and descriptors from the i-1'th and i'th image using the class orb object\n",
    "\n",
    "        Parameters\n",
    "        ----------\n",
    "        i (int): The current frame\n",
    "\n",
    "        Returns\n",
    "        -------\n",
    "        q1 (ndarray): The good keypoints matches position in i-1'th image\n",
    "        q2 (ndarray): The good keypoints matches position in i'th image\n",
    "        \"\"\"\n",
    "        # Find the keypoints and descriptors with ORB\n",
    "        prev_img_kp, prev_img_des = orb.detectAndCompute(prev_img, None)\n",
    "        curr_img_kp, curr_img_des = orb.detectAndCompute(current_img, None)\n",
    "        # Find matches\n",
    "        matches = flann.knnMatch(prev_img_des,curr_img_des, k=2)\n",
    "\n",
    "        # Find the matches there do not have a to high distance\n",
    "        good = []\n",
    "        try:\n",
    "            for m, n in matches:\n",
    "                if m.distance < 0.8 * n.distance:\n",
    "                    good.append(m)\n",
    "        except ValueError:\n",
    "            pass\n",
    "\n",
    "        draw_params = dict(matchColor = -1, # draw matches in green color\n",
    "                 singlePointColor = None,\n",
    "                 matchesMask = None, # draw only inliers\n",
    "                 flags = 2)\n",
    "\n",
    "        img3 = cv2.drawMatches(current_img,prev_img_kp,prev_img,curr_img_kp, good ,None,**draw_params)\n",
    "        img3=cv2.resize(img3,(1280,720))\n",
    "        cv2.imshow(\"image\", img3)\n",
    "\n",
    "        cv2.waitKey(200)\n",
    "\n",
    "        # Get the image points form the good matches\n",
    "        q1 = np.float32([prev_img_kp[m.queryIdx].pt for m in good])\n",
    "        q2 = np.float32([curr_img_kp[m.trainIdx].pt for m in good])\n",
    "        return q1, q2"
   ]
  },
  {
   "cell_type": "code",
   "execution_count": 51,
   "metadata": {},
   "outputs": [],
   "source": [
    "\n",
    "img_paths_list=[str(images_path+\"image\"+str(i)+\".jpg\") for i in range (1,len(os.listdir(images_path))+1) ]\n",
    "\n",
    "for i in range(2,len(img_paths_list)):\n",
    "  \n",
    "  prev_img=cv2.imread(img_paths_list[i-1])\n",
    "  current_img=cv2.imread(img_paths_list[i])\n",
    "  \n",
    "  get_matches(prev_img,current_img)\n",
    "\n",
    "cv2.destroyAllWindows()\n"
   ]
  }
 ],
 "metadata": {
  "kernelspec": {
   "display_name": "Python 3",
   "language": "python",
   "name": "python3"
  },
  "language_info": {
   "codemirror_mode": {
    "name": "ipython",
    "version": 3
   },
   "file_extension": ".py",
   "mimetype": "text/x-python",
   "name": "python",
   "nbconvert_exporter": "python",
   "pygments_lexer": "ipython3",
   "version": "3.10.6"
  },
  "orig_nbformat": 4
 },
 "nbformat": 4,
 "nbformat_minor": 2
}
