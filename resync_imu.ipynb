{
 "cells": [
  {
   "cell_type": "code",
   "execution_count": 4,
   "metadata": {},
   "outputs": [],
   "source": [
    "import pandas as pd\n",
    "import numpy as np\n",
    "import csv"
   ]
  },
  {
   "cell_type": "code",
   "execution_count": 5,
   "metadata": {},
   "outputs": [],
   "source": [
    "file_path=\"Data/gyro_accel.csv\""
   ]
  },
  {
   "cell_type": "code",
   "execution_count": 6,
   "metadata": {},
   "outputs": [
    {
     "name": "stdout",
     "output_type": "stream",
     "text": [
      "0.0752586\n"
     ]
    }
   ],
   "source": [
    "df=pd.read_csv(file_path)\n",
    "\n",
    "new_row=[]\n",
    "\n",
    "print(df[\" gx[rad/s]\"][0])\n",
    "for row in df.index:\n",
    "  \n",
    "  if row % 3 == 0 and row+3 < len(df.index):\n",
    "\n",
    "    time=df[\"Timestamp[nanosec]\"][row+1]\n",
    "    gx=((df[\" gx[rad/s]\"][row]+df[\" gx[rad/s]\"][row+1]+df[\" gx[rad/s]\"][row+3])/3)\n",
    "    gy=((df[\" gy[rad/s]\"][row]+df[\" gy[rad/s]\"][row+1]+df[\" gy[rad/s]\"][row+3])/3)\n",
    "    gz=((df[\" gz[rad/s]\"][row]+df[\" gz[rad/s]\"][row+1]+df[\" gz[rad/s]\"][row+3])/3)\n",
    "    ax=((df[' ax[m/s^2]'][row]+df[' ax[m/s^2]'][row+1]+df[' ax[m/s^2]'][row+3])/3)\n",
    "    ay=((df[' ay[m/s^2]'][row]+df[' ay[m/s^2]'][row+1]+df[' ay[m/s^2]'][row+3])/3)\n",
    "    az=((df[' az[m/s^2]'][row]+df[' az[m/s^2]'][row+1]+df[' az[m/s^2]'][row+3])/3)\n",
    "    new_row.append((time,gx,gy,gz,ax,ay,az))\n",
    "    \n",
    "    #print(df[\" gx[rad/s]\"][row],df[' gy[rad/s]'][row],df[' gz[rad/s]'][row],df[' ax[m/s^2]'][row],df[' ay[m/s^2]'][row],df[' az[m/s^2]'][row])"
   ]
  },
  {
   "cell_type": "code",
   "execution_count": 8,
   "metadata": {},
   "outputs": [],
   "source": [
    "df = pd.DataFrame(\n",
    "  new_row,\n",
    "  columns=['time','gx', 'gy', 'gz', 'ax', 'ay', 'az']\n",
    ")\n",
    "\n",
    "df.to_csv(\"Data/imu_output_sync.csv\")"
   ]
  }
 ],
 "metadata": {
  "kernelspec": {
   "display_name": "Python 3",
   "language": "python",
   "name": "python3"
  },
  "language_info": {
   "codemirror_mode": {
    "name": "ipython",
    "version": 3
   },
   "file_extension": ".py",
   "mimetype": "text/x-python",
   "name": "python",
   "nbconvert_exporter": "python",
   "pygments_lexer": "ipython3",
   "version": "3.10.6"
  },
  "orig_nbformat": 4
 },
 "nbformat": 4,
 "nbformat_minor": 2
}
