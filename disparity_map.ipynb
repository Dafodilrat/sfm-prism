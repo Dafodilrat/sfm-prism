{
 "cells": [
  {
   "cell_type": "code",
   "execution_count": 21,
   "metadata": {},
   "outputs": [],
   "source": [
    "import cv2 \n",
    "import numpy as np\n",
    "import matplotlib.pyplot as plt\n",
    "images_path=r'images/'\n",
    "import os\n",
    "import time\n",
    "import pickle\n",
    "import pandas as pd"
   ]
  },
  {
   "cell_type": "code",
   "execution_count": 22,
   "metadata": {},
   "outputs": [],
   "source": [
    "def write_ply(fn, verts, colors):\n",
    "    ply_header = '''ply\n",
    "    format ascii 1.0\n",
    "    element vertex %(vert_num)d\n",
    "    property float x\n",
    "    property float y\n",
    "    property float z\n",
    "    property uchar red\n",
    "    property uchar green\n",
    "    property uchar blue\n",
    "    end_header\n",
    "    '''\n",
    "    out_colors = colors.copy()\n",
    "    verts = verts.reshape(-1, 3)\n",
    "    verts = np.hstack([verts, out_colors])\n",
    "    with open(fn, 'wb') as f:\n",
    "        f.write((ply_header % dict(vert_num=len(verts))).encode('utf-8'))\n",
    "        np.savetxt(f, verts, fmt='%f %f %f %d %d %d ')"
   ]
  },
  {
   "cell_type": "code",
   "execution_count": 23,
   "metadata": {},
   "outputs": [],
   "source": [
    "pos_df=pd.read_csv('Data/imu_pos_output.csv')"
   ]
  },
  {
   "cell_type": "code",
   "execution_count": 24,
   "metadata": {},
   "outputs": [
    {
     "name": "stdout",
     "output_type": "stream",
     "text": [
      "764\n"
     ]
    }
   ],
   "source": [
    "img_paths_list=[str(images_path+\"image\"+str(i)+\" .jpg\") for i in range (len(os.listdir(images_path))-1) ]\n",
    "print(len(img_paths_list))\n",
    "file = open('VisualOdometry/cameraMatrix.pkl', 'rb')\n",
    "data = pickle.load(file)\n",
    "file.close()"
   ]
  },
  {
   "cell_type": "code",
   "execution_count": 32,
   "metadata": {},
   "outputs": [
    {
     "name": "stdout",
     "output_type": "stream",
     "text": [
      "[5630.84630351    0.         3559.54529106]\n"
     ]
    },
    {
     "ename": "error",
     "evalue": "OpenCV(4.7.0) /io/opencv/modules/calib3d/src/undistort.dispatch.cpp:403: error: (-215:Assertion failed) CV_IS_MAT(_cameraMatrix) && _cameraMatrix->rows == 3 && _cameraMatrix->cols == 3 in function 'cvUndistortPointsInternal'\n",
     "output_type": "error",
     "traceback": [
      "\u001b[0;31m---------------------------------------------------------------------------\u001b[0m",
      "\u001b[0;31merror\u001b[0m                                     Traceback (most recent call last)",
      "Cell \u001b[0;32mIn[32], line 24\u001b[0m\n\u001b[1;32m     15\u001b[0m t_matrix \u001b[39m=\u001b[39m np\u001b[39m.\u001b[39marray(\n\u001b[1;32m     16\u001b[0m   [\n\u001b[1;32m     17\u001b[0m     pos_df[\u001b[39m'\u001b[39m\u001b[39mx\u001b[39m\u001b[39m'\u001b[39m][i]\u001b[39m-\u001b[39mpos_df[\u001b[39m'\u001b[39m\u001b[39mx\u001b[39m\u001b[39m'\u001b[39m][i\u001b[39m-\u001b[39m\u001b[39m1\u001b[39m],\n\u001b[1;32m     18\u001b[0m     pos_df[\u001b[39m'\u001b[39m\u001b[39my\u001b[39m\u001b[39m'\u001b[39m][i]\u001b[39m-\u001b[39mpos_df[\u001b[39m'\u001b[39m\u001b[39my\u001b[39m\u001b[39m'\u001b[39m][i\u001b[39m-\u001b[39m\u001b[39m1\u001b[39m],\n\u001b[1;32m     19\u001b[0m     pos_df[\u001b[39m'\u001b[39m\u001b[39mz\u001b[39m\u001b[39m'\u001b[39m][i]\u001b[39m-\u001b[39mpos_df[\u001b[39m'\u001b[39m\u001b[39mz\u001b[39m\u001b[39m'\u001b[39m][i\u001b[39m-\u001b[39m\u001b[39m1\u001b[39m]\n\u001b[1;32m     20\u001b[0m   ])\n\u001b[1;32m     22\u001b[0m \u001b[39mprint\u001b[39m(cam2)\n\u001b[0;32m---> 24\u001b[0m cv2\u001b[39m.\u001b[39;49mstereoRectify(cameraMatrix1 \u001b[39m=\u001b[39;49m cam1 ,cameraMatrix2 \u001b[39m=\u001b[39;49m cam2,\n\u001b[1;32m     25\u001b[0m                 distCoeffs1 \u001b[39m=\u001b[39;49m \u001b[39m0\u001b[39;49m, distCoeffs2 \u001b[39m=\u001b[39;49m \u001b[39m0\u001b[39;49m,\n\u001b[1;32m     26\u001b[0m                 imageSize \u001b[39m=\u001b[39;49m imgL\u001b[39m.\u001b[39;49mshape,\n\u001b[1;32m     27\u001b[0m                 R \u001b[39m=\u001b[39;49m np\u001b[39m.\u001b[39;49midentity(\u001b[39m3\u001b[39;49m), T \u001b[39m=\u001b[39;49m t_matrix,\n\u001b[1;32m     28\u001b[0m                 R1 \u001b[39m=\u001b[39;49m \u001b[39mNone\u001b[39;49;00m, R2 \u001b[39m=\u001b[39;49m \u001b[39mNone\u001b[39;49;00m,\n\u001b[1;32m     29\u001b[0m                 P1 \u001b[39m=\u001b[39;49m  \u001b[39mNone\u001b[39;49;00m, P2 \u001b[39m=\u001b[39;49m  \u001b[39mNone\u001b[39;49;00m, \n\u001b[1;32m     30\u001b[0m                 Q \u001b[39m=\u001b[39;49m rev_proj_matrix)\n\u001b[1;32m     32\u001b[0m points \u001b[39m=\u001b[39m cv2\u001b[39m.\u001b[39mreprojectImageTo3D(disparity, rev_proj_matrix)\n\u001b[1;32m     33\u001b[0m colors \u001b[39m=\u001b[39m cv2\u001b[39m.\u001b[39mcvtColor(img_left_color, cv2\u001b[39m.\u001b[39mCOLOR_BGR2RGB)\n",
      "\u001b[0;31merror\u001b[0m: OpenCV(4.7.0) /io/opencv/modules/calib3d/src/undistort.dispatch.cpp:403: error: (-215:Assertion failed) CV_IS_MAT(_cameraMatrix) && _cameraMatrix->rows == 3 && _cameraMatrix->cols == 3 in function 'cvUndistortPointsInternal'\n"
     ]
    }
   ],
   "source": [
    "for i in range(1,len(img_paths_list)+1):\n",
    "  \n",
    "  imgL=cv2.imread(img_paths_list[i-1],cv2.IMREAD_GRAYSCALE)\n",
    "  img_left_color=cv2.imread(img_paths_list[i-1])\n",
    "  imgR=cv2.imread(img_paths_list[i],cv2.IMREAD_GRAYSCALE)\n",
    "  \n",
    "  stereo = cv2.StereoBM_create(numDisparities=16, blockSize=15)\n",
    "  disparity = stereo.compute(imgL,imgR)\n",
    "  norm_image = cv2.normalize(disparity, None, alpha = 0, beta = 1, norm_type=cv2.NORM_MINMAX, dtype=cv2.CV_32F)\n",
    "  norm_image=cv2.resize(norm_image,(1280,720))\n",
    "  cam1 = data[0]\n",
    "  cam2 = data[0]\n",
    "  rev_proj_matrix = np.zeros((4,4)) # to store the output\n",
    "\n",
    "  t_matrix = np.array(\n",
    "    [\n",
    "      pos_df['x'][i]-pos_df['x'][i-1],\n",
    "      pos_df['y'][i]-pos_df['y'][i-1],\n",
    "      pos_df['z'][i]-pos_df['z'][i-1]\n",
    "    ])\n",
    "  \n",
    "  print(cam2)\n",
    "  \n",
    "  cv2.stereoRectify(cameraMatrix1 = cam1 ,cameraMatrix2 = cam2,\n",
    "                  distCoeffs1 = 0, distCoeffs2 = 0,\n",
    "                  imageSize = imgL.shape,\n",
    "                  R = np.identity(3), T = t_matrix,\n",
    "                  R1 = None, R2 = None,\n",
    "                  P1 =  None, P2 =  None, \n",
    "                  Q = rev_proj_matrix)\n",
    "  \n",
    "  points = cv2.reprojectImageTo3D(disparity, rev_proj_matrix)\n",
    "  colors = cv2.cvtColor(img_left_color, cv2.COLOR_BGR2RGB)\n",
    "  colors = colors.resize(-1, 3)\n",
    "  write_ply('Data/out.ply',points, colors)\n",
    "  cv2.imshow(\"disp_map\",norm_image)\n",
    "  cv2.waitKey(2)\n",
    "\n",
    "cv2.destroyAllWindows()\n"
   ]
  }
 ],
 "metadata": {
  "kernelspec": {
   "display_name": "Python 3",
   "language": "python",
   "name": "python3"
  },
  "language_info": {
   "codemirror_mode": {
    "name": "ipython",
    "version": 3
   },
   "file_extension": ".py",
   "mimetype": "text/x-python",
   "name": "python",
   "nbconvert_exporter": "python",
   "pygments_lexer": "ipython3",
   "version": "3.10.6"
  },
  "orig_nbformat": 4
 },
 "nbformat": 4,
 "nbformat_minor": 2
}
