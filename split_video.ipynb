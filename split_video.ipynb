{
 "cells": [
  {
   "cell_type": "code",
   "execution_count": 4,
   "metadata": {},
   "outputs": [],
   "source": [
    "import cv2 \n",
    "import pandas as pd\n",
    "import time\n",
    "import os\n",
    "from os.path import isfile, join\n",
    "import numpy as np\n",
    "import math"
   ]
  },
  {
   "cell_type": "code",
   "execution_count": 5,
   "metadata": {},
   "outputs": [],
   "source": [
    "vidcap = cv2.VideoCapture('Data/movie.mp4')"
   ]
  },
  {
   "cell_type": "code",
   "execution_count": 7,
   "metadata": {},
   "outputs": [],
   "source": [
    "def getFrame(count,sec): \n",
    "    vidcap.set(cv2.CAP_PROP_POS_MSEC,sec*1000) \n",
    "    hasFrames,image = vidcap.read() \n",
    "    if hasFrames: \n",
    "        cv2.imwrite(\"images/image\"+str(count)+\" .jpg\", image)     # save frame as JPG file \n",
    "    return hasFrames \n",
    "\n",
    "sec = 0 \n",
    "frameRate = 0.03\n",
    "count=0\n",
    "success = getFrame(count,sec) \n",
    "\n",
    "while success: \n",
    "    sec = sec + frameRate \n",
    "    count+=1\n",
    "    sec = round(sec, 2) \n",
    "    success = getFrame(count,sec) "
   ]
  },
  {
   "cell_type": "code",
   "execution_count": 4,
   "metadata": {},
   "outputs": [
    {
     "name": "stdout",
     "output_type": "stream",
     "text": [
      "0.0001239776611328125\n",
      "0.0002181529998779297\n",
      "0.00022840499877929688\n",
      "0.00023865699768066406\n",
      "0.00024771690368652344\n",
      "0.0002562999725341797\n",
      "0.00026488304138183594\n",
      "0.0002758502960205078\n",
      "0.0002846717834472656\n",
      "0.00029349327087402344\n"
     ]
    }
   ],
   "source": [
    "start_time=time.time()\n",
    "\n",
    "for i in range(10):\n",
    "   current_time=time.time()-start_time \n",
    "   print(current_time)"
   ]
  },
  {
   "cell_type": "code",
   "execution_count": 5,
   "metadata": {},
   "outputs": [
    {
     "data": {
      "text/plain": [
       "50172000"
      ]
     },
     "execution_count": 5,
     "metadata": {},
     "output_type": "execute_result"
    }
   ],
   "source": [
    "2322923440906000-2322923390734000\n"
   ]
  }
 ],
 "metadata": {
  "kernelspec": {
   "display_name": "Python 3",
   "language": "python",
   "name": "python3"
  },
  "language_info": {
   "codemirror_mode": {
    "name": "ipython",
    "version": 3
   },
   "file_extension": ".py",
   "mimetype": "text/x-python",
   "name": "python",
   "nbconvert_exporter": "python",
   "pygments_lexer": "ipython3",
   "version": "3.10.6"
  },
  "orig_nbformat": 4
 },
 "nbformat": 4,
 "nbformat_minor": 2
}
